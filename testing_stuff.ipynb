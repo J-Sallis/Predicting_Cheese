{
 "cells": [
  {
   "cell_type": "code",
   "execution_count": null,
   "id": "fc26a7bc-6f18-48e5-b07f-835927eadc09",
   "metadata": {},
   "outputs": [],
   "source": [
    "# from sklearn.tree import DecisionTreeClassifier\n",
    "from matplotlib import pyplot as plt\n",
    "from sklearn.tree import DecisionTreeClassifier \n",
    "from sklearn import tree\n",
    "\n",
    "\n",
    "#let's see what a decision tree believes to be important features, Module 2 Building a Decision Tree Classifier using moisture\n",
    "decision_tree = tree.DecisionTreeClassifier(max_depth=8,min_samples_leaf=10,random_state=55)\n",
    "dt = decision_tree.fit(X_train[['MoisturePercent']].fillna(X_test[['MoisturePercent']].mean()),y_train)\n",
    "# decision_tree.score(X_test[['MoisturePercent']].fillna(X_test[['MoisturePercent']].mean()),y_test)\n",
    "# tree.plot_tree(dt)\n",
    "\n",
    "fig = plt.figure(figsize=(25,20))\n",
    "tree.plot_tree(decision_tree, \n",
    "                   feature_names=X_train[['MoisturePercent']].fillna(X_test[['MoisturePercent']].mean()),  \n",
    "                   class_names=y_train,\n",
    "                   filled=True)"
   ]
  }
 ],
 "metadata": {
  "kernelspec": {
   "display_name": "Python 3 (ipykernel)",
   "language": "python",
   "name": "python3"
  },
  "language_info": {
   "codemirror_mode": {
    "name": "ipython",
    "version": 3
   },
   "file_extension": ".py",
   "mimetype": "text/x-python",
   "name": "python",
   "nbconvert_exporter": "python",
   "pygments_lexer": "ipython3",
   "version": "3.8.12"
  }
 },
 "nbformat": 4,
 "nbformat_minor": 5
}
